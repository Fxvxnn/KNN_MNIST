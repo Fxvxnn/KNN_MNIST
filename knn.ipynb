{
 "cells": [
  {
   "cell_type": "markdown",
   "metadata": {},
   "source": [
    "# K-nearest-neighbour-algorithmn with MNIST"
   ]
  },
  {
   "cell_type": "markdown",
   "metadata": {},
   "source": [
    "## Import Libraries"
   ]
  },
  {
   "cell_type": "code",
   "execution_count": 5,
   "metadata": {},
   "outputs": [],
   "source": [
    "import numpy as np\n",
    "from keras.datasets import mnist\n",
    "import matplotlib.pyplot as plt"
   ]
  },
  {
   "cell_type": "markdown",
   "metadata": {},
   "source": [
    "## Load and Format Data"
   ]
  },
  {
   "cell_type": "markdown",
   "metadata": {},
   "source": [
    "- load data from keras\n",
    "- reshape data to 2 Dim\n",
    "- bring data to [0, 1]"
   ]
  },
  {
   "cell_type": "code",
   "execution_count": 6,
   "metadata": {},
   "outputs": [
    {
     "data": {
      "text/plain": [
       "((10000, 784), (1000, 784))"
      ]
     },
     "execution_count": 6,
     "metadata": {},
     "output_type": "execute_result"
    }
   ],
   "source": [
    "(train_x, train_y), (test_x, test_y) = mnist.load_data()\n",
    "train_x, train_y = train_x.reshape(-1, 28 * 28)[:10000], train_y[:10000]\n",
    "test_x, test_y = test_x.reshape(-1, 28 * 28)[:1000], test_y[:1000]\n",
    "\n",
    "train_x = train_x.astype(np.float32) / 255.0\n",
    "test_x = test_x.astype(np.float32) / 255.0\n",
    "\n",
    "train_x.shape, test_x.shape"
   ]
  },
  {
   "cell_type": "markdown",
   "metadata": {},
   "source": [
    "## Define knn-algorithmn"
   ]
  },
  {
   "cell_type": "code",
   "execution_count": 7,
   "metadata": {},
   "outputs": [],
   "source": [
    "# L2 distance\n",
    "def euclidean_distance(x, y):\n",
    "    return np.sqrt(np.sum(np.square(x - y)))\n",
    "\n",
    "# L2 square distance\n",
    "def euclidean_distance2(x, y):\n",
    "    return np.sum(np.square(x - y))\n",
    "\n",
    "\n",
    "def knn(x, data, label, k=3):\n",
    "\n",
    "    # calculate distance between input and all data points\n",
    "    distances = [euclidean_distance(x, x_train) for x_train in data]\n",
    "\n",
    "    # sort by distance and return indices of the first k neighbors\n",
    "    distances = np.argpartition(distances, k)[:k]\n",
    "\n",
    "    # return the most common class label\n",
    "    classes, frequency = np.unique(label[distances], return_counts=True)\n",
    "\n",
    "    return classes[np.argmax(frequency)]"
   ]
  },
  {
   "cell_type": "markdown",
   "metadata": {},
   "source": [
    "## Get Accuracy with test data"
   ]
  },
  {
   "cell_type": "code",
   "execution_count": 8,
   "metadata": {},
   "outputs": [
    {
     "name": "stdout",
     "output_type": "stream",
     "text": [
      "Epoch: 0 with Accuracy: 1.0\n",
      "Epoch: 5 with Accuracy: 1.0\n",
      "Epoch: 10 with Accuracy: 1.0\n",
      "Epoch: 15 with Accuracy: 1.0\n",
      "Epoch: 20 with Accuracy: 1.0\n",
      "Epoch: 25 with Accuracy: 0.9615384615384616\n",
      "Epoch: 30 with Accuracy: 0.967741935483871\n",
      "Epoch: 35 with Accuracy: 0.9722222222222222\n",
      "Epoch: 40 with Accuracy: 0.975609756097561\n",
      "Epoch: 45 with Accuracy: 0.9565217391304348\n",
      "Epoch: 50 with Accuracy: 0.9607843137254902\n",
      "Epoch: 55 with Accuracy: 0.9642857142857143\n",
      "Epoch: 60 with Accuracy: 0.9672131147540983\n",
      "Epoch: 65 with Accuracy: 0.9696969696969697\n",
      "Epoch: 70 with Accuracy: 0.971830985915493\n",
      "Epoch: 75 with Accuracy: 0.9605263157894737\n",
      "Epoch: 80 with Accuracy: 0.9506172839506173\n",
      "Epoch: 85 with Accuracy: 0.9534883720930233\n",
      "Epoch: 90 with Accuracy: 0.9560439560439561\n",
      "Epoch: 95 with Accuracy: 0.9479166666666666\n",
      "Epoch: 100 with Accuracy: 0.9504950495049505\n",
      "Epoch: 105 with Accuracy: 0.9528301886792453\n",
      "Epoch: 110 with Accuracy: 0.954954954954955\n",
      "Epoch: 115 with Accuracy: 0.9396551724137931\n",
      "Epoch: 120 with Accuracy: 0.9421487603305785\n",
      "Epoch: 125 with Accuracy: 0.9444444444444444\n",
      "Epoch: 130 with Accuracy: 0.9465648854961832\n",
      "Epoch: 135 with Accuracy: 0.9485294117647058\n",
      "Epoch: 140 with Accuracy: 0.950354609929078\n",
      "Epoch: 145 with Accuracy: 0.952054794520548\n",
      "Epoch: 150 with Accuracy: 0.9470198675496688\n",
      "Epoch: 155 with Accuracy: 0.9487179487179487\n",
      "Epoch: 160 with Accuracy: 0.9503105590062112\n",
      "Epoch: 165 with Accuracy: 0.9518072289156626\n",
      "Epoch: 170 with Accuracy: 0.9532163742690059\n",
      "Epoch: 175 with Accuracy: 0.9488636363636364\n",
      "Epoch: 180 with Accuracy: 0.9502762430939227\n",
      "Epoch: 185 with Accuracy: 0.946236559139785\n",
      "Epoch: 190 with Accuracy: 0.9476439790575916\n",
      "Epoch: 195 with Accuracy: 0.9387755102040817\n",
      "Epoch: 200 with Accuracy: 0.9402985074626866\n",
      "Epoch: 205 with Accuracy: 0.941747572815534\n",
      "Epoch: 210 with Accuracy: 0.9383886255924171\n",
      "Epoch: 215 with Accuracy: 0.9398148148148148\n",
      "Epoch: 220 with Accuracy: 0.9411764705882353\n",
      "Epoch: 225 with Accuracy: 0.9424778761061947\n",
      "Epoch: 230 with Accuracy: 0.9437229437229437\n",
      "Epoch: 235 with Accuracy: 0.9449152542372882\n",
      "Epoch: 240 with Accuracy: 0.946058091286307\n",
      "Epoch: 245 with Accuracy: 0.9390243902439024\n",
      "Epoch: 250 with Accuracy: 0.9322709163346613\n",
      "Epoch: 255 with Accuracy: 0.93359375\n",
      "Epoch: 260 with Accuracy: 0.9272030651340997\n",
      "Epoch: 265 with Accuracy: 0.9285714285714286\n",
      "Epoch: 270 with Accuracy: 0.9261992619926199\n",
      "Epoch: 275 with Accuracy: 0.927536231884058\n",
      "Epoch: 280 with Accuracy: 0.9288256227758007\n",
      "Epoch: 285 with Accuracy: 0.9300699300699301\n",
      "Epoch: 290 with Accuracy: 0.9278350515463918\n",
      "Epoch: 295 with Accuracy: 0.9290540540540541\n",
      "Epoch: 300 with Accuracy: 0.9269102990033222\n",
      "Epoch: 305 with Accuracy: 0.9281045751633987\n",
      "Epoch: 310 with Accuracy: 0.9292604501607717\n",
      "Epoch: 315 with Accuracy: 0.930379746835443\n",
      "Epoch: 320 with Accuracy: 0.9252336448598131\n",
      "Epoch: 325 with Accuracy: 0.9233128834355828\n",
      "Epoch: 330 with Accuracy: 0.9214501510574018\n",
      "Epoch: 335 with Accuracy: 0.9226190476190477\n",
      "Epoch: 340 with Accuracy: 0.9208211143695014\n",
      "Epoch: 345 with Accuracy: 0.9190751445086706\n",
      "Epoch: 350 with Accuracy: 0.9173789173789174\n",
      "Epoch: 355 with Accuracy: 0.9185393258426966\n",
      "Epoch: 360 with Accuracy: 0.9168975069252078\n",
      "Epoch: 365 with Accuracy: 0.9153005464480874\n",
      "Epoch: 370 with Accuracy: 0.9164420485175202\n",
      "Epoch: 375 with Accuracy: 0.9175531914893617\n",
      "Epoch: 380 with Accuracy: 0.916010498687664\n",
      "Epoch: 385 with Accuracy: 0.9145077720207254\n",
      "Epoch: 390 with Accuracy: 0.9156010230179028\n",
      "Epoch: 395 with Accuracy: 0.9166666666666666\n",
      "Epoch: 400 with Accuracy: 0.9177057356608479\n",
      "Epoch: 405 with Accuracy: 0.9187192118226601\n",
      "Epoch: 410 with Accuracy: 0.9197080291970803\n",
      "Epoch: 415 with Accuracy: 0.9182692307692307\n",
      "Epoch: 420 with Accuracy: 0.9192399049881235\n",
      "Epoch: 425 with Accuracy: 0.92018779342723\n",
      "Epoch: 430 with Accuracy: 0.9211136890951276\n",
      "Epoch: 435 with Accuracy: 0.9220183486238532\n",
      "Epoch: 440 with Accuracy: 0.9229024943310657\n",
      "Epoch: 445 with Accuracy: 0.92152466367713\n",
      "Epoch: 450 with Accuracy: 0.9201773835920177\n",
      "Epoch: 455 with Accuracy: 0.9210526315789473\n",
      "Epoch: 460 with Accuracy: 0.9197396963123644\n",
      "Epoch: 465 with Accuracy: 0.9184549356223176\n",
      "Epoch: 470 with Accuracy: 0.9193205944798302\n",
      "Epoch: 475 with Accuracy: 0.9201680672268907\n",
      "Epoch: 480 with Accuracy: 0.918918918918919\n",
      "Epoch: 485 with Accuracy: 0.9197530864197531\n",
      "Epoch: 490 with Accuracy: 0.9205702647657841\n",
      "Epoch: 495 with Accuracy: 0.9173387096774194\n",
      "Epoch: 500 with Accuracy: 0.9181636726546906\n",
      "Epoch: 505 with Accuracy: 0.9189723320158103\n",
      "Epoch: 510 with Accuracy: 0.9197651663405088\n",
      "Epoch: 515 with Accuracy: 0.9205426356589147\n",
      "Epoch: 520 with Accuracy: 0.9213051823416507\n",
      "Epoch: 525 with Accuracy: 0.9220532319391636\n",
      "Epoch: 530 with Accuracy: 0.9227871939736346\n",
      "Epoch: 535 with Accuracy: 0.9216417910447762\n",
      "Epoch: 540 with Accuracy: 0.922365988909427\n",
      "Epoch: 545 with Accuracy: 0.9194139194139194\n",
      "Epoch: 550 with Accuracy: 0.9201451905626135\n",
      "Epoch: 555 with Accuracy: 0.9190647482014388\n",
      "Epoch: 560 with Accuracy: 0.9197860962566845\n",
      "Epoch: 565 with Accuracy: 0.9187279151943463\n",
      "Epoch: 570 with Accuracy: 0.9194395796847635\n",
      "Epoch: 575 with Accuracy: 0.9184027777777778\n",
      "Epoch: 580 with Accuracy: 0.919104991394148\n",
      "Epoch: 585 with Accuracy: 0.9163822525597269\n",
      "Epoch: 590 with Accuracy: 0.9170896785109983\n",
      "Epoch: 595 with Accuracy: 0.9161073825503355\n",
      "Epoch: 600 with Accuracy: 0.9168053244592346\n",
      "Epoch: 605 with Accuracy: 0.9158415841584159\n",
      "Epoch: 610 with Accuracy: 0.9165302782324058\n",
      "Epoch: 615 with Accuracy: 0.9155844155844156\n",
      "Epoch: 620 with Accuracy: 0.9162640901771336\n",
      "Epoch: 625 with Accuracy: 0.9169329073482428\n",
      "Epoch: 630 with Accuracy: 0.9144215530903328\n",
      "Epoch: 635 with Accuracy: 0.9135220125786163\n",
      "Epoch: 640 with Accuracy: 0.9141965678627145\n",
      "Epoch: 645 with Accuracy: 0.9148606811145511\n",
      "Epoch: 650 with Accuracy: 0.9139784946236559\n",
      "Epoch: 655 with Accuracy: 0.9146341463414634\n",
      "Epoch: 660 with Accuracy: 0.913767019667171\n",
      "Epoch: 665 with Accuracy: 0.9144144144144144\n",
      "Epoch: 670 with Accuracy: 0.9120715350223547\n",
      "Epoch: 675 with Accuracy: 0.9127218934911243\n",
      "Epoch: 680 with Accuracy: 0.9133627019089574\n",
      "Epoch: 685 with Accuracy: 0.9125364431486881\n",
      "Epoch: 690 with Accuracy: 0.9117221418234442\n",
      "Epoch: 695 with Accuracy: 0.9109195402298851\n",
      "Epoch: 700 with Accuracy: 0.9115549215406562\n",
      "Epoch: 705 with Accuracy: 0.9121813031161473\n",
      "Epoch: 710 with Accuracy: 0.9113924050632911\n",
      "Epoch: 715 with Accuracy: 0.9120111731843575\n",
      "Epoch: 720 with Accuracy: 0.912621359223301\n",
      "Epoch: 725 with Accuracy: 0.9132231404958677\n",
      "Epoch: 730 with Accuracy: 0.9124487004103967\n",
      "Epoch: 735 with Accuracy: 0.9130434782608695\n",
      "Epoch: 740 with Accuracy: 0.9122807017543859\n",
      "Epoch: 745 with Accuracy: 0.9128686327077749\n",
      "Epoch: 750 with Accuracy: 0.9134487350199734\n",
      "Epoch: 755 with Accuracy: 0.9140211640211641\n",
      "Epoch: 760 with Accuracy: 0.9132720105124835\n",
      "Epoch: 765 with Accuracy: 0.9138381201044387\n",
      "Epoch: 770 with Accuracy: 0.914396887159533\n",
      "Epoch: 775 with Accuracy: 0.9149484536082474\n",
      "Epoch: 780 with Accuracy: 0.9154929577464789\n",
      "Epoch: 785 with Accuracy: 0.916030534351145\n",
      "Epoch: 790 with Accuracy: 0.9152970922882427\n",
      "Epoch: 795 with Accuracy: 0.914572864321608\n",
      "Epoch: 800 with Accuracy: 0.9138576779026217\n",
      "Epoch: 805 with Accuracy: 0.9143920595533499\n",
      "Epoch: 810 with Accuracy: 0.9149198520345253\n",
      "Epoch: 815 with Accuracy: 0.9154411764705882\n",
      "Epoch: 820 with Accuracy: 0.9159561510353228\n",
      "Epoch: 825 with Accuracy: 0.9164648910411622\n",
      "Epoch: 830 with Accuracy: 0.9169675090252708\n",
      "Epoch: 835 with Accuracy: 0.916267942583732\n",
      "Epoch: 840 with Accuracy: 0.915576694411415\n",
      "Epoch: 845 with Accuracy: 0.9148936170212766\n",
      "Epoch: 850 with Accuracy: 0.9153936545240893\n",
      "Epoch: 855 with Accuracy: 0.9158878504672897\n",
      "Epoch: 860 with Accuracy: 0.9163763066202091\n",
      "Epoch: 865 with Accuracy: 0.9168591224018475\n",
      "Epoch: 870 with Accuracy: 0.9173363949483353\n",
      "Epoch: 875 with Accuracy: 0.9178082191780822\n",
      "Epoch: 880 with Accuracy: 0.9182746878547106\n",
      "Epoch: 885 with Accuracy: 0.917607223476298\n",
      "Epoch: 890 with Accuracy: 0.9180695847362514\n",
      "Epoch: 895 with Accuracy: 0.9185267857142857\n",
      "Epoch: 900 with Accuracy: 0.9189789123196448\n",
      "Epoch: 905 with Accuracy: 0.9194260485651214\n",
      "Epoch: 910 with Accuracy: 0.9198682766190999\n",
      "Epoch: 915 with Accuracy: 0.9203056768558951\n",
      "Epoch: 920 with Accuracy: 0.9207383279044516\n",
      "Epoch: 925 with Accuracy: 0.9200863930885529\n",
      "Epoch: 930 with Accuracy: 0.9183673469387755\n",
      "Epoch: 935 with Accuracy: 0.9188034188034188\n",
      "Epoch: 940 with Accuracy: 0.9160467587672688\n",
      "Epoch: 945 with Accuracy: 0.9164904862579282\n",
      "Epoch: 950 with Accuracy: 0.9158780231335436\n",
      "Epoch: 955 with Accuracy: 0.9152719665271967\n",
      "Epoch: 960 with Accuracy: 0.9146722164412071\n",
      "Epoch: 965 with Accuracy: 0.9140786749482401\n",
      "Epoch: 970 with Accuracy: 0.9145211122554068\n",
      "Epoch: 975 with Accuracy: 0.9149590163934426\n",
      "Epoch: 980 with Accuracy: 0.9143730886850153\n",
      "Epoch: 985 with Accuracy: 0.9148073022312373\n",
      "Epoch: 990 with Accuracy: 0.9152371342078708\n",
      "Epoch: 995 with Accuracy: 0.9156626506024096\n",
      "Accuracy: 0.916\n"
     ]
    }
   ],
   "source": [
    "right = 0\n",
    "for i, (x, y) in enumerate(zip(test_x, test_y)):\n",
    "    if knn(x, train_x, train_y, k=5) == y:\n",
    "        right += 1\n",
    "    if i % 5 == 0:\n",
    "        print(f\"Epoch: {i} with Accuracy: {right / (i + 1)}\")\n",
    "\n",
    "print(f\"Accuracy: {right / len(test_y)}\")"
   ]
  },
  {
   "cell_type": "markdown",
   "metadata": {},
   "source": [
    "## Visualize random Test cases"
   ]
  },
  {
   "cell_type": "code",
   "execution_count": 53,
   "metadata": {},
   "outputs": [
    {
     "data": {
      "image/png": "[encoded data removed]",
      "text/plain": [
       "<Figure size 640x480 with 1 Axes>"
      ]
     },
     "metadata": {},
     "output_type": "display_data"
    }
   ],
   "source": [
    "n = np.random.randint(0, len(test_y))\n",
    "plt.imshow(test_x[n].reshape(28, 28), cmap=\"gray\")\n",
    "plt.title(f\"Predicted label: {knn(test_x[n], train_x, train_y, k=5)}\")\n",
    "plt.show()"
   ]
  }
 ],
 "metadata": {
  "kernelspec": {
   "display_name": "Python 3",
   "language": "python",
   "name": "python3"
  },
  "language_info": {
   "codemirror_mode": {
    "name": "ipython",
    "version": 3
   },
   "file_extension": ".py",
   "mimetype": "text/x-python",
   "name": "python",
   "nbconvert_exporter": "python",
   "pygments_lexer": "ipython3",
   "version": "3.11.4"
  }
 },
 "nbformat": 4,
 "nbformat_minor": 2
}
