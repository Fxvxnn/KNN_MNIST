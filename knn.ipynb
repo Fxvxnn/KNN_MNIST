{
 "cells": [
  {
   "cell_type": "code",
   "execution_count": 20,
   "metadata": {},
   "outputs": [],
   "source": [
    "import numpy as np\n",
    "from keras.datasets import mnist\n",
    "import matplotlib.pyplot as plt"
   ]
  },
  {
   "cell_type": "code",
   "execution_count": 49,
   "metadata": {},
   "outputs": [
    {
     "data": {
      "text/plain": [
       "((10000, 784), (1000, 784))"
      ]
     },
     "execution_count": 49,
     "metadata": {},
     "output_type": "execute_result"
    }
   ],
   "source": [
    "(train_x, train_y), (test_x, test_y) = mnist.load_data()\n",
    "train_x = train_x.reshape(-1, 28 * 28)[:10000]\n",
    "train_y = train_y[:10000]\n",
    "test_x = test_x.reshape(-1, 28 * 28)[:1000]\n",
    "test_y = test_y[:1000]\n",
    "\n",
    "train_x.shape, test_x.shape"
   ]
  },
  {
   "cell_type": "code",
   "execution_count": 25,
   "metadata": {},
   "outputs": [],
   "source": [
    "def euclidean_distance(x, y):\n",
    "    return np.sqrt(np.sum(np.square(x - y)))\n",
    "\n",
    "def euclidean_distance2(x, y):\n",
    "    return np.sum(np.square(x - y))\n",
    "\n",
    "\n",
    "def knn(x, data, label, k=3, get_neighbours=False):\n",
    "\n",
    "    distances = [euclidean_distance(x, x_train) for x_train in data]\n",
    "\n",
    "    distances = np.argpartition(distances, k)[:k]\n",
    "\n",
    "    if get_neighbours:\n",
    "        return distances\n",
    "\n",
    "    classes, frequency = np.unique(label[distances], return_counts=True)\n",
    "\n",
    "    return classes[np.argmax(frequency)]"
   ]
  },
  {
   "cell_type": "code",
   "execution_count": 50,
   "metadata": {},
   "outputs": [
    {
     "name": "stdout",
     "output_type": "stream",
     "text": [
      "Epoch: 0 with Accuracy: 0.0\n",
      "Epoch: 5 with Accuracy: 0.5\n",
      "Epoch: 10 with Accuracy: 0.36363636363636365\n",
      "Epoch: 15 with Accuracy: 0.3125\n",
      "Epoch: 20 with Accuracy: 0.2857142857142857\n",
      "Epoch: 25 with Accuracy: 0.23076923076923078\n",
      "Epoch: 30 with Accuracy: 0.25806451612903225\n",
      "Epoch: 35 with Accuracy: 0.3055555555555556\n",
      "Epoch: 40 with Accuracy: 0.34146341463414637\n",
      "Epoch: 45 with Accuracy: 0.30434782608695654\n",
      "Epoch: 50 with Accuracy: 0.3137254901960784\n",
      "Epoch: 55 with Accuracy: 0.2857142857142857\n",
      "Epoch: 60 with Accuracy: 0.29508196721311475\n",
      "Epoch: 65 with Accuracy: 0.2727272727272727\n",
      "Epoch: 70 with Accuracy: 0.29577464788732394\n",
      "Epoch: 75 with Accuracy: 0.2894736842105263\n",
      "Epoch: 80 with Accuracy: 0.2716049382716049\n",
      "Epoch: 85 with Accuracy: 0.26744186046511625\n",
      "Epoch: 90 with Accuracy: 0.27472527472527475\n",
      "Epoch: 95 with Accuracy: 0.2708333333333333\n",
      "Epoch: 100 with Accuracy: 0.27722772277227725\n",
      "Epoch: 105 with Accuracy: 0.2641509433962264\n",
      "Epoch: 110 with Accuracy: 0.2702702702702703\n",
      "Epoch: 115 with Accuracy: 0.25862068965517243\n",
      "Epoch: 120 with Accuracy: 0.24793388429752067\n",
      "Epoch: 125 with Accuracy: 0.23809523809523808\n",
      "Epoch: 130 with Accuracy: 0.2366412213740458\n",
      "Epoch: 135 with Accuracy: 0.23529411764705882\n",
      "Epoch: 140 with Accuracy: 0.24113475177304963\n",
      "Epoch: 145 with Accuracy: 0.2465753424657534\n",
      "Epoch: 150 with Accuracy: 0.24503311258278146\n",
      "Epoch: 155 with Accuracy: 0.24358974358974358\n",
      "Epoch: 160 with Accuracy: 0.2360248447204969\n",
      "Epoch: 165 with Accuracy: 0.2469879518072289\n",
      "Epoch: 170 with Accuracy: 0.24561403508771928\n",
      "Epoch: 175 with Accuracy: 0.23863636363636365\n",
      "Epoch: 180 with Accuracy: 0.24861878453038674\n",
      "Epoch: 185 with Accuracy: 0.24731182795698925\n",
      "Epoch: 190 with Accuracy: 0.2513089005235602\n"
     ]
    },
    {
     "ename": "KeyboardInterrupt",
     "evalue": "",
     "output_type": "error",
     "traceback": [
      "\u001b[1;31m---------------------------------------------------------------------------\u001b[0m",
      "\u001b[1;31mKeyboardInterrupt\u001b[0m                         Traceback (most recent call last)",
      "Cell \u001b[1;32mIn[50], line 3\u001b[0m\n\u001b[0;32m      1\u001b[0m right \u001b[38;5;241m=\u001b[39m \u001b[38;5;241m0\u001b[39m\n\u001b[0;32m      2\u001b[0m \u001b[38;5;28;01mfor\u001b[39;00m i, (x, y) \u001b[38;5;129;01min\u001b[39;00m \u001b[38;5;28menumerate\u001b[39m(\u001b[38;5;28mzip\u001b[39m(test_x, test_y)):\n\u001b[1;32m----> 3\u001b[0m     \u001b[38;5;28;01mif\u001b[39;00m \u001b[43mknn\u001b[49m\u001b[43m(\u001b[49m\u001b[43mx\u001b[49m\u001b[43m,\u001b[49m\u001b[43m \u001b[49m\u001b[43mtrain_x\u001b[49m\u001b[43m,\u001b[49m\u001b[43m \u001b[49m\u001b[43mtrain_y\u001b[49m\u001b[43m,\u001b[49m\u001b[43m \u001b[49m\u001b[43mk\u001b[49m\u001b[38;5;241;43m=\u001b[39;49m\u001b[38;5;241;43m5\u001b[39;49m\u001b[43m)\u001b[49m \u001b[38;5;241m==\u001b[39m y:\n\u001b[0;32m      4\u001b[0m         right \u001b[38;5;241m+\u001b[39m\u001b[38;5;241m=\u001b[39m \u001b[38;5;241m1\u001b[39m\n\u001b[0;32m      5\u001b[0m     \u001b[38;5;28;01mif\u001b[39;00m i \u001b[38;5;241m%\u001b[39m \u001b[38;5;241m5\u001b[39m \u001b[38;5;241m==\u001b[39m \u001b[38;5;241m0\u001b[39m:\n",
      "Cell \u001b[1;32mIn[25], line 10\u001b[0m, in \u001b[0;36mknn\u001b[1;34m(x, data, label, k, get_neighbours)\u001b[0m\n\u001b[0;32m      8\u001b[0m \u001b[38;5;28;01mdef\u001b[39;00m \u001b[38;5;21mknn\u001b[39m(x, data, label, k\u001b[38;5;241m=\u001b[39m\u001b[38;5;241m3\u001b[39m, get_neighbours\u001b[38;5;241m=\u001b[39m\u001b[38;5;28;01mFalse\u001b[39;00m):\n\u001b[1;32m---> 10\u001b[0m     distances \u001b[38;5;241m=\u001b[39m \u001b[43m[\u001b[49m\u001b[43meuclidean_distance\u001b[49m\u001b[43m(\u001b[49m\u001b[43mx\u001b[49m\u001b[43m,\u001b[49m\u001b[43m \u001b[49m\u001b[43mx_train\u001b[49m\u001b[43m)\u001b[49m\u001b[43m \u001b[49m\u001b[38;5;28;43;01mfor\u001b[39;49;00m\u001b[43m \u001b[49m\u001b[43mx_train\u001b[49m\u001b[43m \u001b[49m\u001b[38;5;129;43;01min\u001b[39;49;00m\u001b[43m \u001b[49m\u001b[43mdata\u001b[49m\u001b[43m]\u001b[49m\n\u001b[0;32m     12\u001b[0m     distances \u001b[38;5;241m=\u001b[39m np\u001b[38;5;241m.\u001b[39margpartition(distances, k)[:k]\n\u001b[0;32m     14\u001b[0m     \u001b[38;5;28;01mif\u001b[39;00m get_neighbours:\n",
      "Cell \u001b[1;32mIn[25], line 10\u001b[0m, in \u001b[0;36m<listcomp>\u001b[1;34m(.0)\u001b[0m\n\u001b[0;32m      8\u001b[0m \u001b[38;5;28;01mdef\u001b[39;00m \u001b[38;5;21mknn\u001b[39m(x, data, label, k\u001b[38;5;241m=\u001b[39m\u001b[38;5;241m3\u001b[39m, get_neighbours\u001b[38;5;241m=\u001b[39m\u001b[38;5;28;01mFalse\u001b[39;00m):\n\u001b[1;32m---> 10\u001b[0m     distances \u001b[38;5;241m=\u001b[39m [\u001b[43meuclidean_distance\u001b[49m\u001b[43m(\u001b[49m\u001b[43mx\u001b[49m\u001b[43m,\u001b[49m\u001b[43m \u001b[49m\u001b[43mx_train\u001b[49m\u001b[43m)\u001b[49m \u001b[38;5;28;01mfor\u001b[39;00m x_train \u001b[38;5;129;01min\u001b[39;00m data]\n\u001b[0;32m     12\u001b[0m     distances \u001b[38;5;241m=\u001b[39m np\u001b[38;5;241m.\u001b[39margpartition(distances, k)[:k]\n\u001b[0;32m     14\u001b[0m     \u001b[38;5;28;01mif\u001b[39;00m get_neighbours:\n",
      "Cell \u001b[1;32mIn[25], line 2\u001b[0m, in \u001b[0;36meuclidean_distance\u001b[1;34m(x, y)\u001b[0m\n\u001b[0;32m      1\u001b[0m \u001b[38;5;28;01mdef\u001b[39;00m \u001b[38;5;21meuclidean_distance\u001b[39m(x, y):\n\u001b[1;32m----> 2\u001b[0m     \u001b[38;5;28;01mreturn\u001b[39;00m np\u001b[38;5;241m.\u001b[39msqrt(np\u001b[38;5;241m.\u001b[39msum(\u001b[43mnp\u001b[49m\u001b[38;5;241;43m.\u001b[39;49m\u001b[43msquare\u001b[49m\u001b[43m(\u001b[49m\u001b[43mx\u001b[49m\u001b[43m \u001b[49m\u001b[38;5;241;43m-\u001b[39;49m\u001b[43m \u001b[49m\u001b[43my\u001b[49m\u001b[43m)\u001b[49m))\n",
      "\u001b[1;31mKeyboardInterrupt\u001b[0m: "
     ]
    }
   ],
   "source": [
    "right = 0\n",
    "for i, (x, y) in enumerate(zip(test_x, test_y)):\n",
    "    if knn(x, train_x, train_y, k=5) == y:\n",
    "        right += 1\n",
    "    if i % 5 == 0:\n",
    "        print(f\"Epoch: {i} with Accuracy: {right / (i + 1)}\")\n",
    "\n",
    "print(f\"Accuracy: {right / len(test_y)}\")"
   ]
  }
 ],
 "metadata": {
  "kernelspec": {
   "display_name": "Python 3",
   "language": "python",
   "name": "python3"
  },
  "language_info": {
   "codemirror_mode": {
    "name": "ipython",
    "version": 3
   },
   "file_extension": ".py",
   "mimetype": "text/x-python",
   "name": "python",
   "nbconvert_exporter": "python",
   "pygments_lexer": "ipython3",
   "version": "3.11.4"
  }
 },
 "nbformat": 4,
 "nbformat_minor": 2
}
