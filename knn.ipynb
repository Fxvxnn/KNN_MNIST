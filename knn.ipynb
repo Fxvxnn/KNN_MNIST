{
 "cells": [
  {
   "cell_type": "markdown",
   "metadata": {},
   "source": [
    "# K-nearest-neighbour-algorithmn with MNIST"
   ]
  },
  {
   "cell_type": "markdown",
   "metadata": {},
   "source": [
    "## Import Libraries"
   ]
  },
  {
   "cell_type": "code",
   "execution_count": 2,
   "metadata": {},
   "outputs": [
    {
     "name": "stdout",
     "output_type": "stream",
     "text": [
      "WARNING:tensorflow:From C:\\Users\\fynn-\\AppData\\Roaming\\Python\\Python311\\site-packages\\keras\\src\\losses.py:2976: The name tf.losses.sparse_softmax_cross_entropy is deprecated. Please use tf.compat.v1.losses.sparse_softmax_cross_entropy instead.\n",
      "\n"
     ]
    }
   ],
   "source": [
    "import numpy as np\n",
    "from keras.datasets import mnist\n",
    "import matplotlib.pyplot as plt"
   ]
  },
  {
   "cell_type": "markdown",
   "metadata": {},
   "source": [
    "## Load and Format Data"
   ]
  },
  {
   "cell_type": "markdown",
   "metadata": {},
   "source": [
    "- load data from keras\n",
    "- reshape data to 2 Dim\n",
    "- bring data to [0, 1]"
   ]
  },
  {
   "cell_type": "code",
   "execution_count": 3,
   "metadata": {},
   "outputs": [
    {
     "data": {
      "text/plain": [
       "((10000, 784), (1000, 784))"
      ]
     },
     "execution_count": 3,
     "metadata": {},
     "output_type": "execute_result"
    }
   ],
   "source": [
    "(train_x, train_y), (test_x, test_y) = mnist.load_data()\n",
    "train_x, train_y = train_x.reshape(-1, 28 * 28)[:10000], train_y[:10000]\n",
    "test_x, test_y = test_x.reshape(-1, 28 * 28)[:1000], test_y[:1000]\n",
    "\n",
    "train_x = train_x.astype(np.float32) / 255.0\n",
    "test_x = test_x.astype(np.float32) / 255.0\n",
    "\n",
    "train_x.shape, test_x.shape"
   ]
  },
  {
   "cell_type": "markdown",
   "metadata": {},
   "source": [
    "## Define knn-algorithmn"
   ]
  },
  {
   "cell_type": "code",
   "execution_count": 4,
   "metadata": {},
   "outputs": [],
   "source": [
    "# L2 distance\n",
    "def euclidean_distance(x, y):\n",
    "    return np.sqrt(np.sum(np.square(x - y)))\n",
    "\n",
    "# L2 square distance\n",
    "def euclidean_distance2(x, y):\n",
    "    return np.sum(np.square(x - y))\n",
    "\n",
    "\n",
    "def knn(x, data, label, k=3):\n",
    "\n",
    "    # calculate distance between input and all data points\n",
    "    distances = [euclidean_distance(x, x_train) for x_train in data]\n",
    "\n",
    "    # sort by distance and return indices of the first k neighbors\n",
    "    distances = np.argpartition(distances, k)[:k]\n",
    "\n",
    "    # return the most common class label\n",
    "    classes, frequency = np.unique(label[distances], return_counts=True)\n",
    "\n",
    "    return classes[np.argmax(frequency)]"
   ]
  },
  {
   "cell_type": "markdown",
   "metadata": {},
   "source": [
    "## Get Accuracy with test data"
   ]
  },
  {
   "cell_type": "code",
   "execution_count": 5,
   "metadata": {},
   "outputs": [
    {
     "name": "stdout",
     "output_type": "stream",
     "text": [
      "Epoch: 0 with Accuracy: 1.0\n",
      "Epoch: 100 with Accuracy: 0.9504950495049505\n",
      "Epoch: 200 with Accuracy: 0.9402985074626866\n",
      "Epoch: 300 with Accuracy: 0.9269102990033222\n",
      "Epoch: 400 with Accuracy: 0.9177057356608479\n",
      "Epoch: 500 with Accuracy: 0.9181636726546906\n",
      "Epoch: 600 with Accuracy: 0.9168053244592346\n",
      "Epoch: 700 with Accuracy: 0.9115549215406562\n",
      "Epoch: 800 with Accuracy: 0.9138576779026217\n",
      "Epoch: 900 with Accuracy: 0.9189789123196448\n",
      "Accuracy: 0.916\n"
     ]
    }
   ],
   "source": [
    "right = 0\n",
    "for i, (x, y) in enumerate(zip(test_x, test_y)):\n",
    "    if knn(x, train_x, train_y, k=5) == y:\n",
    "        right += 1\n",
    "    if i % 100 == 0:\n",
    "        print(f\"Epoch: {i} with Accuracy: {right / (i + 1)}\")\n",
    "\n",
    "print(f\"Accuracy: {right / len(test_y)}\")"
   ]
  },
  {
   "cell_type": "markdown",
   "metadata": {},
   "source": [
    "## Visualize random Test cases"
   ]
  },
  {
   "cell_type": "code",
   "execution_count": 10,
   "metadata": {},
   "outputs": [
    {
     "data": {
      "image/png": "[encoded data removed]",
      "text/plain": [
       "<Figure size 640x480 with 1 Axes>"
      ]
     },
     "metadata": {},
     "output_type": "display_data"
    }
   ],
   "source": [
    "n = np.random.randint(0, len(test_y))\n",
    "plt.imshow(test_x[n].reshape(28, 28), cmap=\"gray\")\n",
    "plt.title(f\"Predicted label: {knn(test_x[n], train_x, train_y, k=5)}\")\n",
    "plt.show()"
   ]
  }
 ],
 "metadata": {
  "kernelspec": {
   "display_name": "Python 3",
   "language": "python",
   "name": "python3"
  },
  "language_info": {
   "codemirror_mode": {
    "name": "ipython",
    "version": 3
   },
   "file_extension": ".py",
   "mimetype": "text/x-python",
   "name": "python",
   "nbconvert_exporter": "python",
   "pygments_lexer": "ipython3",
   "version": "3.11.4"
  }
 },
 "nbformat": 4,
 "nbformat_minor": 2
}
